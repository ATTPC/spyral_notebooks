{
 "cells": [
  {
   "cell_type": "markdown",
   "metadata": {},
   "source": [
    "# An Example Physics Analysis\n",
    "\n",
    "This notebook is an example of what post-Spyral analysis might look like. To use this notebook all four phases of Spyral *must* have been run on the data. After all of the phases are run on a dataset, it is time to do some actual physics analysis! In general physics analysis is highly specific to the experiment being run, but this notebook aims to give a little overview on what an analysis might look like if one wants to use some of the tools given by the application. \n",
    "\n",
    "First we import our modules we need, and define some materials for energy loss calculations. Note that the windows and gas for the IC do change from experiment to experiment."
   ]
  },
  {
   "cell_type": "code",
   "execution_count": 52,
   "metadata": {},
   "outputs": [],
   "source": [
    "from spyral.core.constants import AMU_2_MEV, QBRHO_2_P\n",
    "\n",
    "from spyral_utils.nuclear import NuclearDataMap\n",
    "from spyral_utils.nuclear.target import GasTarget, load_target, TargetData, SolidTarget\n",
    "from spyral_utils.plot import Histogrammer\n",
    "\n",
    "import polars as pl\n",
    "import numpy as np\n",
    "from pathlib import Path\n",
    "import matplotlib.pyplot as plt\n",
    "import vector\n",
    "import lmfit\n",
    "\n",
    "%matplotlib widget\n",
    "plt.close()\n",
    "\n",
    "nuclear_map = NuclearDataMap()\n",
    "# Ion Chamber entrance and exit window, thickness in ug/cm^2\n",
    "ic_window_material = SolidTarget(TargetData([[1,1,14],[6,12,14],[7,14,4],[8,16,4]], thickness=1422.312), nuclear_map)\n",
    "# AT-TPC entrance window, thickness in ug/cm^2\n",
    "attpc_window_material = SolidTarget(TargetData([[1,1,14],[6,12,14],[7,14,4],[8,16,4]], thickness=1422.312), nuclear_map)\n",
    "# Ion Chamber gas material, pressure in Torr\n",
    "ic_gas_material = GasTarget(TargetData([(6,12,1),(9,18,4)], pressure=200.0), nuclear_map)\n",
    "ic_gas_thickness = 0.035 #m\n"
   ]
  },
  {
   "cell_type": "markdown",
   "metadata": {},
   "source": [
    "Now we'll load our configuration. The configuration will help us define the target material (the active target) which we'll use for some energy loss analysis. We'll also use the nuclear data map to get the masses for the reactants we're interested in. This example loads the data for the reaction $^{16}\\mathrm{C}\\left(\\mathrm{d}, \\mathrm{d}\\right){}^{16}\\mathrm{C}$ in inverse kinematics (where $^{16}\\mathrm{C}$ is the beam projectile). We also define the projectile starting energy, that is the energy from the accelerator after passing through the window foils of the AT-TPC."
   ]
  },
  {
   "cell_type": "code",
   "execution_count": 53,
   "metadata": {},
   "outputs": [],
   "source": [
    "# Set some parameters\n",
    "workspace_path = Path(\"/path/to/your/workspace/\")\n",
    "solver_result_path = workspace_path / \"InterpSolver\" # if you use InterpSolverPhase\n",
    "# solver_result_path = workspace_path / \"InterpLeastSqSolver\" # if you use InterpLeastSqSolverPhase\n",
    "\n",
    "# Your AT-TPC target gas material\n",
    "target_material_path = Path(\"/path/to/your/gas.json\")\n",
    "\n",
    "# Run number range (inclusive)\n",
    "run_min = 16\n",
    "run_max = 16\n",
    "\n",
    "# Specify your nuclei\n",
    "\n",
    "# The nucleus we observe (the one we fitted)\n",
    "ejectile_z = 1\n",
    "ejectile_a = 2\n",
    "\n",
    "# The incoming nucleus (the beam)\n",
    "projectile_z = 6\n",
    "projectile_a = 16\n",
    "\n",
    "# The target nucleus\n",
    "target_z = 1\n",
    "target_a = 2\n",
    "\n",
    "# We calculate the residual for you\n",
    "residual_z = target_z + projectile_z - ejectile_z\n",
    "residual_a = target_a + projectile_a - ejectile_a\n",
    "\n",
    "if residual_z < 0:\n",
    "    raise Exception(f\"Illegal nuclei! Residual Z: {residual_z}\")\n",
    "if residual_a < 1:\n",
    "    raise Exception(f\"Illegal nuclei! Residual A: {residual_a}\")\n"
   ]
  },
  {
   "cell_type": "markdown",
   "metadata": {},
   "source": [
    "Setup our nuclear data objects and calculate the beam energy in the AT-TPC, accounting for the energy loss through the proceeding ion chamber and AT-TPC windows. Note that if you **do not** have an ion chamber for your dataset you will need to modify this cell."
   ]
  },
  {
   "cell_type": "code",
   "execution_count": null,
   "metadata": {},
   "outputs": [],
   "source": [
    "target_material = load_target(target_material_path, nuclear_map)\n",
    "if not isinstance(target_material, GasTarget):\n",
    "    print('Target error!')\n",
    "\n",
    "ejectile = nuclear_map.get_data(ejectile_z, ejectile_a)\n",
    "projectile = nuclear_map.get_data(projectile_z, projectile_a)\n",
    "target = nuclear_map.get_data(target_z, target_a)\n",
    "residual = nuclear_map.get_data(residual_z, residual_a)\n",
    "print(f\"Reaction: {target}({projectile}, {ejectile}){residual}\")\n",
    "print(f\"Target material: {target_material.ugly_string}\")\n",
    "\n",
    "# Initial beam energy\n",
    "mass_amu = projectile.mass / AMU_2_MEV # If needed, to convert beam energy in MeV/u -> MeV\n",
    "proj_energy_accel = 196.0 # MeV, the beam energy from the accelerator\n",
    "\n",
    "# The beam energy after the ic entrance window\n",
    "proj_energy_ic = proj_energy_accel - ic_window_material.get_energy_loss(projectile, proj_energy_accel, np.array([0.0]))[0]\n",
    "# The beam energy after the ic gas\n",
    "proj_energy_ic_exit = proj_energy_ic - ic_gas_material.get_energy_loss(projectile, proj_energy_ic, np.array([ic_gas_thickness]))[0]\n",
    "# The beam energy after the ic exit window\n",
    "proj_energy_post_ic = proj_energy_ic_exit - ic_window_material.get_energy_loss(projectile, proj_energy_ic_exit, np.array([0.0]))[0]\n",
    "# The beam energy after the AT-TPC entrace window\n",
    "proj_energy_start = proj_energy_post_ic - attpc_window_material.get_energy_loss(projectile, proj_energy_post_ic, np.array([0.0]))[0]\n",
    "# The beam energy at the downstream end of the AT-TPC\n",
    "proj_energy_stop = proj_energy_start - target_material.get_energy_loss(projectile, proj_energy_start, np.array([1.0]))[0] # Energy at far end of detector\n",
    "print(f\"Accelerator Beam energy: {proj_energy_accel} MeV\")\n",
    "print(f\"Beam energy after IC (2 windows + gas): {proj_energy_post_ic} MeV\")\n",
    "print(f\"Beam energy range in AT-TPC: {proj_energy_start}-{proj_energy_stop} MeV\")\n"
   ]
  },
  {
   "cell_type": "markdown",
   "metadata": {},
   "source": [
    "Now we'll create a histogramming system. The Histogrammer class wraps the numpy histogramming functionality. This is useful because we'll probably want to look at several runs, and neither numpy or matplotlib provide clean native functionality for this. We'll define a couple of histograms that will plot some useful data for us. "
   ]
  },
  {
   "cell_type": "code",
   "execution_count": 55,
   "metadata": {},
   "outputs": [],
   "source": [
    "\n",
    "grammer = Histogrammer()\n",
    "grammer.add_hist2d('ke_theta', (360, 1600), ((0.0, 180.0), (0.0, 80.0)))\n",
    "grammer.add_hist2d('ke_phi', (360, 1600), ((0.0, 360.0), (0.0, 80.0)))\n",
    "grammer.add_hist1d('ex', 250, (-5.0, 20.0))\n",
    "grammer.add_hist1d('chisq', 1000, (0.0, 1.0e-4))\n",
    "grammer.add_hist1d(\"vertex_z\", 1000, (0.0, 1.0))\n",
    "grammer.add_hist2d(\"ex_vertex_z\", (250, 500), ((-5.0, 20.0), (0.0, 1.0)))"
   ]
  },
  {
   "cell_type": "markdown",
   "metadata": {},
   "source": [
    "Now we'll do some data analysis! Here we're going to calculate the ejectile (detected) particle kinetic energy from our fitted $B\\rho$ and then combine that with the projectile kinetic energy, polar reaction angle, and masses to calculate the excitation energy of the residual nucleus. Note that we use the vertex position to calculate the distance travelled for the beam in the gas and then calculate the energy lost by the beam travelling to the reaction vertex. This data is then given to the histogrammer."
   ]
  },
  {
   "cell_type": "code",
   "execution_count": 56,
   "metadata": {},
   "outputs": [],
   "source": [
    "target_vector = vector.array({\"px\": [0.0], \"py\": [0.0], \"pz\": [0.0], \"E\": [target.mass]})\n",
    "for run in range(run_min, run_max+1):\n",
    "    df = None\n",
    "    path = solver_result_path / f\"run_{run:04d}_{ejectile.isotopic_symbol}.parquet\"\n",
    "    if not path.exists():\n",
    "        continue\n",
    "    df = pl.scan_parquet(path)\n",
    "\n",
    "    # Example of a filter on the dataset, here we filter out the edges of the detector in Z\n",
    "    df = df.filter((pl.col(\"vertex_z\") > 0.005) & (pl.col(\"vertex_z\") < 0.995)).collect()\n",
    "\n",
    "    # Construct the projectile vectors (beam)\n",
    "    vertices = df.select(['vertex_x', 'vertex_y', 'vertex_z']).to_numpy()\n",
    "    distances = np.linalg.norm(vertices, axis=1)\n",
    "    projectile_ke = proj_energy_start - target_material.get_energy_loss(projectile, proj_energy_start, distances)\n",
    "    projectile_vector = vector.array({\n",
    "        \"px\": np.zeros(len(projectile_ke)),\n",
    "        \"py\": np.zeros(len(projectile_ke)),\n",
    "        \"pz\": np.sqrt(projectile_ke * (projectile_ke + 2.0 * projectile.mass)),\n",
    "        \"E\": projectile_ke + projectile.mass\n",
    "    })\n",
    "\n",
    "    # Construct the ejectile vectors (detected)\n",
    "    brho = df.select('brho').to_numpy().flatten()\n",
    "    momentum = df.select('brho').to_numpy().flatten() * float(ejectile.Z) * QBRHO_2_P\n",
    "    kinetic_energy = np.sqrt(momentum**2.0 + ejectile.mass**2.0) - ejectile.mass\n",
    "    polar = df.select('polar').to_numpy().flatten()\n",
    "    az = df.select('azimuthal').to_numpy().flatten()\n",
    "    cs = df.select('redchisq').to_numpy().flatten()\n",
    "    ejectile_vector = vector.array({\n",
    "        \"px\": momentum * np.sin(polar) * np.cos(az),\n",
    "        \"py\": momentum * np.sin(polar) * np.sin(az),\n",
    "        \"pz\": momentum * np.cos(polar),\n",
    "        \"E\": np.sqrt(momentum**2.0 + ejectile.mass**2.0)\n",
    "    })\n",
    "\n",
    "    # Do the kinematics\n",
    "    residual_vector = target_vector + projectile_vector - ejectile_vector # type: ignore\n",
    "    ex = residual_vector.mass - residual.mass # Excitation energy is \"extra\" mass\n",
    "\n",
    "    grammer.fill_hist2d('ke_theta', np.rad2deg(polar), kinetic_energy)\n",
    "    grammer.fill_hist2d('ke_theta_resid', np.rad2deg(polar), kinetic_energy)\n",
    "    grammer.fill_hist2d('ke_phi', np.rad2deg(az), kinetic_energy)\n",
    "    grammer.fill_hist1d('ex', ex)\n",
    "    grammer.fill_hist1d(\"chisq\", cs)\n",
    "    grammer.fill_hist1d(\"vertex_z\", vertices[:, 2])\n",
    "    grammer.fill_hist2d(\"ex_vertex_z\", ex, vertices[:, 2])"
   ]
  },
  {
   "cell_type": "markdown",
   "metadata": {},
   "source": [
    "We can also compare the kinematics to the expected values. Here we'll calculate the ejectile kinetic energy for a range of reaction angles. Note that in this case we cannot account for the exact beam energy after travelling through the gas without doing a form of Monte-Carlo simulation. By default we only calculate the ground state of the resiudal, however, you can add more excitations to the `residual_excitations` array to add more states to plot."
   ]
  },
  {
   "cell_type": "code",
   "execution_count": 57,
   "metadata": {},
   "outputs": [],
   "source": [
    "# Add states here!\n",
    "residual_excitations = np.array([0.0])\n",
    "\n",
    "# Do the calculation in the center of mass\n",
    "cm_angle_range = np.linspace(0., np.pi, 1000)\n",
    "# Calculate envelope from range of beam energies\n",
    "eject_kinematics = np.zeros((len(residual_excitations), len(cm_angle_range) * 2, 2))\n",
    "\n",
    "# Upper limit (maximum beam energy)\n",
    "beam_vec_max = vector.array({\n",
    "    \"px\": [0.0],\n",
    "    \"py\": [0.0],\n",
    "    \"pz\": [np.sqrt(proj_energy_start * (proj_energy_start + 2.0 * projectile.mass))],\n",
    "    \"E\": [proj_energy_start + projectile.mass]\n",
    "})\n",
    "parent_max = target_vector + beam_vec_max\n",
    "parent_cm_max = parent_max.boostCM_of(parent_max)\n",
    "for idx, ex in enumerate(residual_excitations):\n",
    "    eject_e_cm_max = (ejectile.mass**2.0 - (residual.mass + ex)**2.0 + parent_cm_max.E**2.0) / (2.0 * parent_cm_max.E)\n",
    "    eject_p_cm_max = np.sqrt(eject_e_cm_max**2.0 - ejectile.mass**2.0)\n",
    "    eject_vec_cms_max = vector.array({\n",
    "        \"px\": eject_p_cm_max * np.sin(cm_angle_range),\n",
    "        \"py\": np.zeros(len(cm_angle_range)),\n",
    "        \"pz\": eject_p_cm_max * np.cos(cm_angle_range),\n",
    "        \"E\": np.full(len(cm_angle_range), eject_e_cm_max)\n",
    "    })\n",
    "    eject_vec_lab_max = eject_vec_cms_max.boost(parent_max)\n",
    "    eject_kinematics[idx, :len(cm_angle_range), 0] = eject_vec_lab_max.theta\n",
    "    eject_kinematics[idx, :len(cm_angle_range), 1] = eject_vec_lab_max.E - ejectile.mass\n",
    "\n",
    "# Lower limit (minimum beam energy)\n",
    "beam_vec_min = vector.array({\n",
    "    \"px\": [0.0],\n",
    "    \"py\": [0.0],\n",
    "    \"pz\": [np.sqrt(proj_energy_stop * (proj_energy_stop + 2.0 * projectile.mass))],\n",
    "    \"E\": [proj_energy_stop + projectile.mass]\n",
    "})\n",
    "parent_min = target_vector + beam_vec_min\n",
    "parent_cm_min = parent_min.boostCM_of(parent_min)\n",
    "for idx, ex in enumerate(residual_excitations):\n",
    "    eject_e_cm_min = (ejectile.mass**2.0 - (residual.mass + ex)**2.0 + parent_cm_min.E**2.0) / (2.0 * parent_cm_min.E)\n",
    "    eject_p_cm_min = np.sqrt(eject_e_cm_min**2.0 - ejectile.mass**2.0)\n",
    "    eject_vec_cms_min = vector.array({\n",
    "        \"px\": eject_p_cm_min * np.sin(cm_angle_range),\n",
    "        \"py\": np.zeros(len(cm_angle_range)),\n",
    "        \"pz\": eject_p_cm_min * np.cos(cm_angle_range),\n",
    "        \"E\": np.full(len(cm_angle_range), eject_e_cm_min)\n",
    "    })\n",
    "    eject_vec_lab_min = eject_vec_cms_min.boost(parent_min)\n",
    "    # Note that lower limit is \"flipped\". We plot the band as a polygon, so need to continue from large lab angles to small lab angles\n",
    "    eject_kinematics[idx, len(cm_angle_range):, 0] = np.flip(eject_vec_lab_min.theta)\n",
    "    eject_kinematics[idx, len(cm_angle_range):, 1] = np.flip(eject_vec_lab_min.E - ejectile.mass)"
   ]
  },
  {
   "cell_type": "markdown",
   "metadata": {},
   "source": [
    "Now lets make some plots! Here we are showing the kinematics (energy-angle relationship) for the ejectile (detected) particle. On this histogram we also plot our calculated kinematics as a band representing the range of values over the length of the detector. Here we're looking for general agreement with the trend, not exact values."
   ]
  },
  {
   "cell_type": "code",
   "execution_count": null,
   "metadata": {},
   "outputs": [],
   "source": [
    "ke_theta = grammer.get_hist2d(\"ke_theta\")\n",
    "ke_phi = grammer.get_hist2d(\"ke_phi\")\n",
    "fig, ax = plt.subplots(1,1, constrained_layout=True)\n",
    "mesh = ax.pcolormesh(ke_theta.x_bins, ke_theta.y_bins, ke_theta.counts, norm=\"log\")\n",
    "ax.set_title(\"Kinetic Energy vs. Polar Angle\")\n",
    "ax.set_xlabel(r\"$\\theta$ (deg)\")\n",
    "ax.set_ylabel(\"Kinetic Energy (MeV)\")\n",
    "fig.colorbar(mesh, ax=ax)\n",
    "for idx, ex in enumerate(residual_excitations):\n",
    "    ax.plot(np.rad2deg(eject_kinematics[idx, :len(cm_angle_range), 0]), eject_kinematics[idx, :len(cm_angle_range), 1], label=f\"Ex={ex:02} Upper Edge\")\n",
    "    # Fill idea thanks to D. Ramirez\n",
    "    ax.fill(np.rad2deg(eject_kinematics[idx, :, 0]), eject_kinematics[idx, :, 1], label=f\"Ex={ex:02} Band\", alpha=0.2)\n",
    "fig.set_figheight(8.0)\n",
    "fig.set_figwidth(11.0)\n",
    "ax.legend()\n"
   ]
  },
  {
   "cell_type": "markdown",
   "metadata": {},
   "source": [
    "Below are some more slices on the data. You should explore the parameter space to find correlations in your dataset."
   ]
  },
  {
   "cell_type": "code",
   "execution_count": null,
   "metadata": {},
   "outputs": [],
   "source": [
    "fig, ax = plt.subplots(2,2, constrained_layout=True)\n",
    "hist = grammer.get_hist1d(\"ex\")\n",
    "ax[0][0].stairs(hist.counts, edges=hist.bins)\n",
    "ax[0][0].set_title(f\"{residual.get_latex_rep()} Spectrum\")\n",
    "ax[0][0].set_xlabel(\"Excitation Energy (MeV)\")\n",
    "ax[0][0].set_ylabel(\"Counts\")\n",
    "hist = grammer.get_hist1d(\"chisq\")\n",
    "ax[0][1].stairs(hist.counts, edges=hist.bins)\n",
    "ax[0][1].set_title(f\"{residual.get_latex_rep()} Error\")\n",
    "ax[0][1].set_xlabel(\"Error\")\n",
    "ax[0][1].set_ylabel(\"Counts\")\n",
    "hist = grammer.get_hist1d(\"vertex_z\")\n",
    "ax[1][1].stairs(hist.counts, edges=hist.bins)\n",
    "ax[1][1].set_title(\"Vertex Z\")\n",
    "ax[1][1].set_xlabel(\"Vertex Z (m)\")\n",
    "ax[1][1].set_ylabel(\"Counts\")\n",
    "hist = grammer.get_hist2d(\"ex_vertex_z\")\n",
    "mesh = ax[1][0].pcolormesh(hist.x_bins, hist.y_bins, hist.counts, norm=\"log\")\n",
    "fig.colorbar(mesh, ax=ax[1][0])\n",
    "ax[1][0].set_title(f\"{residual.get_latex_rep()} Ex vs Vertex Z\")\n",
    "ax[1][0].set_xlabel(f\"{residual.get_latex_rep()} Ex (MeV)\")\n",
    "ax[1][0].set_ylabel(\"Vertex Z (m)\")\n",
    "fig.set_figwidth(12.0)\n",
    "fig.set_figheight(10.0)"
   ]
  },
  {
   "cell_type": "markdown",
   "metadata": {},
   "source": [
    "Finally, below we demonstrate how to fit your excitation energy spectrum and extract some state parameters. This default tries to fit a Gaussian lineshape to a ground state peak; it may not work for your data but will provide an example of how to proceed."
   ]
  },
  {
   "cell_type": "code",
   "execution_count": null,
   "metadata": {},
   "outputs": [],
   "source": [
    "hist = grammer.get_hist1d(\"ex\")\n",
    "\n",
    "peak1 = lmfit.models.GaussianModel(prefix=\"peak1_\")\n",
    "peak1_bins, peak1_counts = hist.get_subrange((-0.5, 0.5))\n",
    "peak1_bins += 0.5 * hist.bin_width\n",
    "peak1_weights = 1.0/np.sqrt(peak1_counts)\n",
    "peak1_weights[peak1_counts == 0.0] = 1.0\n",
    "pars = peak1.guess(x=peak1_bins, data=peak1_counts, weights=peak1_weights)\n",
    "\n",
    "# Example second peak\n",
    "# peak2 = lmfit.models.LorentzianModel(prefix=\"peak2_\")\n",
    "# peak2_bins, peak2_counts = hist.get_subrange((0.0, 1.0))\n",
    "# peak2_bins += 0.5 * hist.bin_width\n",
    "# peak2_weights = 1.0/np.sqrt(peak2_counts)\n",
    "# peak2_weights[peak2_counts == 0.0] = 1.0\n",
    "# pars.update(peak2.guess(x=peak2_bins, data=peak2_counts, weights=peak2_weights))\n",
    "\n",
    "\n",
    "total_fit = peak1\n",
    "# Example of multi peak model\n",
    "# total_fit = peak1 + peak2 \n",
    "total_bins, total_counts = hist.get_subrange((-1.0, 1.0))\n",
    "total_bins += 0.5 * hist.bin_width\n",
    "total_weights = 1.0/np.sqrt(total_counts)\n",
    "total_weights[total_counts == 0.0] = 1.0\n",
    "total_result = total_fit.fit(params=pars, x=total_bins, data=total_counts, weights=total_weights)\n",
    "comps = total_result.eval_components(x=total_bins)\n",
    "total_result\n"
   ]
  },
  {
   "cell_type": "code",
   "execution_count": null,
   "metadata": {},
   "outputs": [],
   "source": [
    "fig, ax = plt.subplots(1,1)\n",
    "ax.stairs(hist.counts, edges=hist.bins, label=\"Spectrum\")\n",
    "ax.plot(total_bins, total_result.best_fit, label=\"Total Fit\")\n",
    "ax.plot(total_bins, comps[\"peak1_\"], label=\"peak1\")\n",
    "# Example of second peak\n",
    "# ax.plot(total_bins, comps[\"peak2_\"], label=\"peak2\")\n",
    "ax.set_title(f\"{residual.get_latex_rep()} Spectrum Fit\")\n",
    "ax.set_xlabel(\"Excitation Energy (MeV)\")\n",
    "ax.set_ylabel(\"Counts\")\n",
    "fig.set_figwidth(8.0)\n",
    "fig.legend()"
   ]
  }
 ],
 "metadata": {
  "kernelspec": {
   "display_name": ".venv",
   "language": "python",
   "name": "python3"
  },
  "language_info": {
   "codemirror_mode": {
    "name": "ipython",
    "version": 3
   },
   "file_extension": ".py",
   "mimetype": "text/x-python",
   "name": "python",
   "nbconvert_exporter": "python",
   "pygments_lexer": "ipython3",
   "version": "3.11.0rc1"
  }
 },
 "nbformat": 4,
 "nbformat_minor": 4
}
