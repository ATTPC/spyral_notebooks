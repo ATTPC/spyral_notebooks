{
 "cells": [
  {
   "cell_type": "markdown",
   "metadata": {},
   "source": [
    "# Estimating Physics Parameters\n",
    "\n",
    "This notebook shows how the estimation phase of Spyral works. To use this notebook the ClusterPhase of Spyral *must* have been run on the data. Once clusters have been identified, the next step is to estimate the physics parameters which will be feed to the solver phase (either InterpSolverPhase or InterpLeastSqSolverPhase). For more details on the different phases, see the Spyral [documentation](https://attpc.github.io/Spyral).\n",
    "\n",
    "## Setup\n",
    "First we import  the required modules"
   ]
  },
  {
   "cell_type": "code",
   "execution_count": 16,
   "metadata": {},
   "outputs": [],
   "source": [
    "from spyral.core.cluster import Cluster\n",
    "from spyral.core.estimator import estimate_physics\n",
    "from spyral.geometry.circle import generate_circle_points\n",
    "from spyral.core.run_stacks import form_run_string\n",
    "from spyral import EstimateParameters, DetectorParameters\n",
    "\n",
    "from pathlib import Path\n",
    "import h5py as h5\n",
    "import numpy as np\n",
    "import plotly.graph_objects as go\n",
    "from plotly.subplots import make_subplots"
   ]
  },
  {
   "cell_type": "markdown",
   "metadata": {},
   "source": [
    "Now that we have our modules, we need to specifiy our configuration as per usual"
   ]
  },
  {
   "cell_type": "code",
   "execution_count": 17,
   "metadata": {},
   "outputs": [],
   "source": [
    "# Set some parameters\n",
    "workspace_path = Path(\"/path/to/your/workspace/\")\n",
    "\n",
    "est_params = EstimateParameters(\n",
    "    min_total_trajectory_points=30, smoothing_factor=100.0\n",
    ")\n",
    "\n",
    "det_params = DetectorParameters(\n",
    "    magnetic_field=2.85,\n",
    "    electric_field=45000.0,\n",
    "    detector_length=1000.0,\n",
    "    beam_region_radius=25.0,\n",
    "    micromegas_time_bucket=10.0,\n",
    "    window_time_bucket=560.0,\n",
    "    get_frequency=6.25,\n",
    "    garfield_file_path=Path(\"/path/to/some/garfield.txt\"),\n",
    "    do_garfield_correction=False,\n",
    ")\n",
    "\n",
    "cluster_path = workspace_path / \"Cluster\" # This may change if you add custom phases!\n"
   ]
  },
  {
   "cell_type": "markdown",
   "metadata": {},
   "source": [
    "For this phase, we also need some storage to hold the results. The storage is in the form of a dictionary of lists"
   ]
  },
  {
   "cell_type": "code",
   "execution_count": 18,
   "metadata": {},
   "outputs": [],
   "source": [
    "results: dict[str, list] = {\n",
    "    \"event\": [], \n",
    "    \"cluster_index\": [], \n",
    "    \"cluster_label\": [], \n",
    "    \"ic_amplitude\": [], \n",
    "    \"ic_centroid\": [], \n",
    "    \"ic_integral\": [], \n",
    "    \"ic_multiplicity\": [],\n",
    "    \"orig_run\": [],\n",
    "    \"orig_event\": [],\n",
    "    \"vertex_x\": [], \n",
    "    \"vertex_y\": [], \n",
    "    \"vertex_z\": [],\n",
    "    \"center_x\": [], \n",
    "    \"center_y\": [], \n",
    "    \"center_z\": [], \n",
    "    \"polar\": [], \n",
    "    \"azimuthal\": [],\n",
    "    \"brho\": [], \n",
    "    \"dEdx\": [], \n",
    "    \"sqrt_dEdx\": [],\n",
    "    \"dE\": [], \n",
    "    \"arclength\": [], \n",
    "    \"direction\": []\n",
    "}"
   ]
  },
  {
   "cell_type": "markdown",
   "metadata": {},
   "source": [
    "From our workspace we can then request the file for our clusters, and create an event iterator that will allow us to walk through the file in order"
   ]
  },
  {
   "cell_type": "code",
   "execution_count": null,
   "metadata": {},
   "outputs": [],
   "source": [
    "run_number = 16\n",
    "cluster_file_path = cluster_path / f\"{form_run_string(run_number)}.h5\"\n",
    "cluster_file = h5.File(cluster_file_path, \"r\")\n",
    "cluster_group = cluster_file[\"cluster\"]\n",
    "min_event = cluster_group.attrs[\"min_event\"]\n",
    "max_event = cluster_group.attrs[\"max_event\"]\n",
    "event_iter = iter(range(min_event, max_event+1))\n",
    "print(f\"First event: {min_event} Last event: {max_event}\")"
   ]
  },
  {
   "cell_type": "markdown",
   "metadata": {},
   "source": [
    "## Analysis\n",
    "\n",
    "Re-running the code below this cell will walk through the events in order, so long as the cells above are not re-run.\n",
    "\n",
    "First we select a specific event to look at"
   ]
  },
  {
   "cell_type": "code",
   "execution_count": null,
   "metadata": {},
   "outputs": [],
   "source": [
    "nclusters = 0\n",
    "event = None\n",
    "# You can also hardcode an event if you want!\n",
    "# event = 2\n",
    "if event is None:\n",
    "    try:\n",
    "        event = next(event_iter)\n",
    "    except StopIteration:\n",
    "        raise Exception(\"You ran out of events in this file (wow!), open a new file to look at.\")\n",
    "event_name = f\"event_{event}\"\n",
    "if event_name not in cluster_group:\n",
    "    raise Exception(\"This was a downscale beam event and was removed from the dataset! Rerun this cell to select a new event!\")\n",
    "event_group = cluster_group[f\"event_{event}\"]\n",
    "nclusters = event_group.attrs[\"nclusters\"]\n",
    "if nclusters == 0:\n",
    "    raise Exception(f\"There are no clusters for event {event}, run this cell again!\")\n",
    "cluster_iter = iter(range(0, nclusters))\n",
    "print(f\"Event: {event}\")\n",
    "print(f\"N Clusters: {nclusters}\")"
   ]
  },
  {
   "cell_type": "markdown",
   "metadata": {},
   "source": [
    "Now we\"ll select a specific cluster to look at from that event (assuming the event has some clusters! If you got an error in the above cell, run it again!). If you run the cell below without running the cell above, you\"ll walk through the set of clusters for a given event"
   ]
  },
  {
   "cell_type": "code",
   "execution_count": null,
   "metadata": {},
   "outputs": [],
   "source": [
    "cluster_index = None\n",
    "# You can also hardcode a cluster if you want!\n",
    "# cluster_index = 0\n",
    "if cluster_index is None:\n",
    "    try:\n",
    "        cluster_index = next(cluster_iter)\n",
    "    except StopIteration:\n",
    "        raise Exception(\"You ran out of clusters for this event, move to the next event (run the cell above this one)\")\n",
    "local_cluster = event_group[f\"cluster_{cluster_index}\"]\n",
    "cluster = Cluster(event, local_cluster.attrs[\"label\"], local_cluster[\"cloud\"][:].copy())\n",
    "\n",
    "print(f\"Cluster index: {cluster_index}\")\n",
    "print(f\"Cluster size: {len(cluster.data)}\")"
   ]
  },
  {
   "cell_type": "markdown",
   "metadata": {},
   "source": [
    "With our cluster selected and loaded, we can now send it, along with some configuration paramters, through the estimator code and plot the results"
   ]
  },
  {
   "cell_type": "code",
   "execution_count": null,
   "metadata": {},
   "outputs": [],
   "source": [
    "length_before = len(results[\"event\"])\n",
    "estimate_physics(\n",
    "    cluster_index, \n",
    "    cluster, \n",
    "    event_group.attrs[\"ic_amplitude\"], \n",
    "    event_group.attrs[\"ic_centroid\"], \n",
    "    event_group.attrs[\"ic_integral\"], \n",
    "    event_group.attrs[\"ic_multiplicity\"], \n",
    "    event_group.attrs[\"orig_run\"],\n",
    "    event_group.attrs[\"orig_event\"],\n",
    "    est_params, \n",
    "    det_params, \n",
    "    results\n",
    ")\n",
    "length_after = len(results[\"event\"])\n",
    "if length_before == length_after:\n",
    "    raise Exception(\"This cluster failed the estimation analysis, try a different one!\")\n",
    "\n",
    "# The plotting\n",
    "\n",
    "center_x = results[\"center_x\"][-1]\n",
    "center_y = results[\"center_y\"][-1]\n",
    "vertex_x = results[\"vertex_x\"][-1]\n",
    "vertex_y = results[\"vertex_y\"][-1]\n",
    "vertex_z = results[\"vertex_z\"][-1]\n",
    "theta = results[\"polar\"][-1]\n",
    "phi = results[\"azimuthal\"][-1]\n",
    "brho = results[\"brho\"][-1]\n",
    "dedx = results[\"dEdx\"][-1]\n",
    "rho_mm = brho/det_params.magnetic_field * 1000.0 * np.sin(theta)\n",
    "print(f\"Brho(T*m): {brho}\")\n",
    "print(f\"Rho(mm): {rho_mm}\")\n",
    "print(f\"dEdx: {dedx}\")\n",
    "print(f\"Polar(deg):{theta * 180.0/np.pi}\")\n",
    "print(f\"Azimuthal(deg):{phi * 180.0/np.pi}\")\n",
    "print(f\"Direction: {results['direction'][-1]}\")\n",
    "print(f\"Circle center x: {center_x} y: {center_y}\")\n",
    "print(f\"Vertex z: {vertex_z} x: {vertex_x} y: {vertex_y} Cluster z start: {cluster.data[0, 2]}\")\n",
    "length_samples = np.linspace(1.0, 50.0, 50)\n",
    "dir_x_samples = length_samples * np.cos(phi) + vertex_x\n",
    "dir_y_samples = length_samples * np.sin(phi) + vertex_y\n",
    "\n",
    "circle_points = generate_circle_points(center_x, center_y, rho_mm)\n",
    "beam_region = generate_circle_points(0., 0., det_params.beam_region_radius)\n",
    "\n",
    "fig = make_subplots(2,1,specs=[[{\"type\": \"scene\"}],[{\"type\": \"xy\"}]],row_heights=[0.25,0.75])\n",
    "fig.add_trace(\n",
    "    go.Scatter3d(\n",
    "        x=cluster.data[:, 2], \n",
    "        y=cluster.data[:, 0], \n",
    "        z=cluster.data[:, 1], \n",
    "        mode=\"markers\",\n",
    "        marker= {\n",
    "            \"size\": 3,\n",
    "            \"color\": cluster.data[:, 3]\n",
    "        }, \n",
    "        name=\"Cluster-3D\"\n",
    "    ),\n",
    "    row=1,\n",
    "    col=1\n",
    ")\n",
    "fig.add_trace(\n",
    "    go.Scatter3d(\n",
    "        x=[cluster.data[0, 2]], \n",
    "        y=[cluster.data[0, 0]], \n",
    "        z=[cluster.data[0, 1]], \n",
    "        mode=\"markers\",\n",
    "        marker= {\n",
    "            \"size\": 3,\n",
    "            \"color\": \"red\"\n",
    "        }, \n",
    "        name=\"Cluster-3D Start\"\n",
    "    ),\n",
    "    row=1,\n",
    "    col=1\n",
    ")\n",
    "fig.add_trace(\n",
    "    go.Scatter3d(\n",
    "        x=[vertex_z], \n",
    "        y=[vertex_x], \n",
    "        z=[vertex_y], \n",
    "        mode=\"markers\",\n",
    "        marker= {\n",
    "            \"size\": 3,\n",
    "            \"color\": \"green\"\n",
    "        }, \n",
    "        name=\"Vertex-3D\"\n",
    "    ),\n",
    "    row=1,\n",
    "    col=1\n",
    ")\n",
    "\n",
    "fig.add_trace(\n",
    "    go.Scatter(x=cluster.data[:, 0], y=cluster.data[:, 1], mode=\"markers\", marker={\"color\": cluster.data[:, 3]}, name=\"Cluster\"),\n",
    "    row=2,\n",
    "    col=1\n",
    ")\n",
    "fig.add_trace(\n",
    "    go.Scatter(x=[cluster.data[0, 0]], y=[cluster.data[0, 1]], mode=\"markers\", marker={\"color\": \"red\"}, name=\"Cluster Start\"),\n",
    "    row=2,\n",
    "    col=1\n",
    ")\n",
    "fig.add_trace(\n",
    "    go.Scatter(x=circle_points[:, 0], y=circle_points[:, 1], mode=\"lines\", name=\"Circle Fit\"),\n",
    "    row=2,\n",
    "    col=1\n",
    ")\n",
    "fig.add_trace(\n",
    "    go.Scatter(x=beam_region[:, 0], y=beam_region[:, 1], mode=\"lines\", name=\"Beam Region\"),\n",
    "    row=2,\n",
    "    col=1\n",
    ")\n",
    "fig.add_trace(\n",
    "    go.Scatter(x=[vertex_x], y=[vertex_y], mode=\"markers\", marker={\"color\": \"green\"}, name=\"Vertex\"),\n",
    "    row=2,\n",
    "    col=1\n",
    ")\n",
    "fig.add_trace(\n",
    "    go.Scatter(x=dir_x_samples, y=dir_y_samples, mode=\"lines\", name=\"Initial Direction\"),\n",
    "    row=2,\n",
    "    col=1\n",
    ")\n",
    "fig.update_layout(\n",
    "    xaxis_title=\"X (mm)\",\n",
    "    yaxis_title=\"Y (mm)\",\n",
    "    xaxis_range=[-300.0,300.0],\n",
    "    yaxis_range=[-300.0,300.0],\n",
    "    scene = {\n",
    "        \"xaxis_range\": [0.0, 1000.0],\n",
    "        \"yaxis_range\": [-300.0, 300.0],\n",
    "        \"zaxis_range\": [-300.0, 300.0],\n",
    "        \"xaxis_title\": \"Z (mm)\",\n",
    "        \"yaxis_title\": \"X (mm)\",\n",
    "        \"zaxis_title\": \"Y (mm)\",\n",
    "        \"aspectratio\": {\n",
    "            \"x\": 3.3,\n",
    "            \"y\": 1.0,\n",
    "            \"z\": 1.0\n",
    "        }\n",
    "    },\n",
    "    width=900,\n",
    "    height=1200\n",
    ")\n",
    "fig.show()\n"
   ]
  },
  {
   "cell_type": "markdown",
   "metadata": {},
   "source": [
    "Now we can look at some of our results! First we'll look at the circle fit, and the estimated vertex poistion, which is how we estimate $B\\rho$. We'll also draw a line corresponding to the estimated initial direction. One important part of the estimation phase is smoothing. Smoothing splines are applied to the x, y, and charge coordinates as a function of z. So your cluster might look a little different than before, but that is by design. The smoothing helps us get accurate measures for important quantities like dEdx."
   ]
  },
  {
   "cell_type": "markdown",
   "metadata": {},
   "source": [
    "We can also start building up a particle id using $B\\rho$ and $\\frac{dE}{dx}$. If you run the three cells above this repeatedly, you'll see the plot below fill with data!"
   ]
  },
  {
   "cell_type": "code",
   "execution_count": null,
   "metadata": {},
   "outputs": [],
   "source": [
    "fig = go.Figure()\n",
    "fig.add_trace(\n",
    "    go.Scatter(x=results[\"dEdx\"], y=results[\"brho\"], mode=\"markers\", name=\"PID\")\n",
    ")\n",
    "fig.update_layout(\n",
    "    xaxis_title=\"dEdx\",\n",
    "    yaxis_title=\"B&#961;\",\n",
    "    xaxis_range=[0.0, 2.0e4],\n",
    "    yaxis_range=[0.0, 3.0]\n",
    ")\n",
    "fig.show()"
   ]
  },
  {
   "cell_type": "markdown",
   "metadata": {},
   "source": [
    "In this way you can examine and tune the parameters for the estimation phase. If you want to make complete particle ID plots, it is recommended to use the particle_id.ipynb rather than these notebooks, which are more for demonstration."
   ]
  }
 ],
 "metadata": {
  "kernelspec": {
   "display_name": ".venv",
   "language": "python",
   "name": "python3"
  },
  "language_info": {
   "codemirror_mode": {
    "name": "ipython",
    "version": 3
   },
   "file_extension": ".py",
   "mimetype": "text/x-python",
   "name": "python",
   "nbconvert_exporter": "python",
   "pygments_lexer": "ipython3",
   "version": "3.11.0"
  },
  "orig_nbformat": 4
 },
 "nbformat": 4,
 "nbformat_minor": 2
}
