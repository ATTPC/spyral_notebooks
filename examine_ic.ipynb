{
 "cells": [
  {
   "cell_type": "markdown",
   "metadata": {},
   "source": [
    "# Examining FRIBDAQ Data: The Ion Chamber\n",
    "\n",
    "This notebook demonstrates the algorithm in the point cloud phase used to analyze ion chamber data. Typically, AT-TPC data contains more than just the data produced by the AT-TPC itself. In particular, an upstream ion chamber is critical for selecting the beam of interest entering the AT-TPC. Without this, the data is polluted by reactions involving other beams than the species of interest. This data is typically handled by a separate DAQ called FRIB(NSCL)DAQ.  This notebook will demonstrate the analysis used by Spryal to extract the FRIBDAQ data.\n",
    "\n",
    "First we load the relevant modules"
   ]
  },
  {
   "cell_type": "code",
   "execution_count": null,
   "metadata": {},
   "outputs": [],
   "source": [
    "from spyral.trace.frib_trace import FRIB_TRACE_LENGTH\n",
    "from spyral.trace.frib_event import IC_COLUMN\n",
    "from spyral.trace.trace_reader import create_reader\n",
    "from spyral.core.run_stacks import form_run_string\n",
    "from spyral import FribParameters, DetectorParameters, GetParameters\n",
    "\n",
    "import numpy.random as random\n",
    "import numpy as np\n",
    "from pathlib import Path\n",
    "import matplotlib.pyplot as plt\n",
    "import mplcursors\n",
    "\n",
    "%matplotlib widget"
   ]
  },
  {
   "cell_type": "markdown",
   "metadata": {},
   "source": [
    "Now we load our configuration and workspace. While using this notebook one can also customize the configuration on the fly without modifying the acutal JSON file"
   ]
  },
  {
   "cell_type": "code",
   "execution_count": null,
   "metadata": {},
   "outputs": [],
   "source": [
    "# Set some parameters\n",
    "trace_data_path = Path(\"/path/to/raw/attpc/traces/\")\n",
    "\n",
    "\n",
    "get_params = GetParameters(\n",
    "    baseline_window_scale=20.0,\n",
    "    peak_separation=50.0,\n",
    "    peak_prominence=20.0,\n",
    "    peak_max_width=50.0,\n",
    "    peak_threshold=40.0,\n",
    ")\n",
    "\n",
    "frib_params = FribParameters(\n",
    "    baseline_window_scale=100.0,\n",
    "    peak_separation=50.0,\n",
    "    peak_prominence=20.0,\n",
    "    peak_max_width=500.0,\n",
    "    peak_threshold=100.0,\n",
    "    ic_delay_time_bucket=1100,\n",
    "    ic_multiplicity=1,\n",
    ")\n",
    "\n",
    "det_params = DetectorParameters(\n",
    "    magnetic_field=2.85,\n",
    "    electric_field=45000.0,\n",
    "    detector_length=1000.0,\n",
    "    beam_region_radius=25.0,\n",
    "    micromegas_time_bucket=10.0,\n",
    "    window_time_bucket=560.0,\n",
    "    get_frequency=6.25,\n",
    "    garfield_file_path=Path(\"/path/to/some/garfield.txt\"),\n",
    "    do_garfield_correction=False,\n",
    ")\n"
   ]
  },
  {
   "cell_type": "markdown",
   "metadata": {},
   "source": [
    "Pick a run to inspect and load the reader"
   ]
  },
  {
   "cell_type": "code",
   "execution_count": null,
   "metadata": {},
   "outputs": [],
   "source": [
    "run_number = 16\n",
    "trace_file_path = trace_data_path / f\"{form_run_string(run_number)}.h5\"\n",
    "trace_reader = create_reader(trace_file_path, run_number)\n",
    "if trace_reader is None:\n",
    "    raise Exception(\"Couldn't read trace file!\")\n",
    "\n",
    "event_iterator = iter(trace_reader.event_range())\n",
    "rng = random.default_rng()"
   ]
  },
  {
   "cell_type": "markdown",
   "metadata": {},
   "source": [
    "### Analysis\n",
    "\n",
    "Re-running the cells below this will walk through events in the file in order.\n",
    "\n",
    "Now we select a specific event from the FRIBDAQ data. The event numbers here should match the event numbers in the GET data. By default a random event is selected, but it can be useful to hardcode the event to inspect specific behavior. We then retrieve the traces from the SIS3300 module (id 1903)."
   ]
  },
  {
   "cell_type": "code",
   "execution_count": null,
   "metadata": {},
   "outputs": [],
   "source": [
    "plt.close()\n",
    "event_number = None\n",
    "# Can always overwrite with hardcoded event number if needed\n",
    "# event_number = 38537\n",
    "if event_number is None:\n",
    "    try:\n",
    "        event_number = next(event_iterator)\n",
    "    except StopIteration:\n",
    "        raise Exception(\"You ran out of events (wow!) for this file. Open a new file.\")\n",
    "print(f'Event {event_number}')\n",
    "\n",
    "event = trace_reader.read_event(event_number, get_params, frib_params, rng)\n",
    "if event.frib is None:\n",
    "    raise Exception(\"There is no FRIB data for this event!\")\n",
    "trace_data =  trace_reader.read_raw_frib_event(event_number)"
   ]
  },
  {
   "cell_type": "markdown",
   "metadata": {},
   "source": [
    "First lets plot the raw trace for the ion  chamber"
   ]
  },
  {
   "cell_type": "code",
   "execution_count": null,
   "metadata": {},
   "outputs": [],
   "source": [
    "sample_range = np.arange(0, FRIB_TRACE_LENGTH)\n",
    "fig, ax = plt.subplots(constrained_layout=True)\n",
    "ax.plot(sample_range, trace_data[:, IC_COLUMN], label=\"Ion Chamber\")\n",
    "ax.set_xlabel(\"Time Bucket\")\n",
    "ax.set_ylabel(\"Amplitude\")\n",
    "ax.legend()"
   ]
  },
  {
   "cell_type": "markdown",
   "metadata": {},
   "source": [
    "Now we'll clean up those traces, removing the baseline, by passing the data to the FribEvent class. This will also identify peaks in the traces, which we'll label in the plot."
   ]
  },
  {
   "cell_type": "code",
   "execution_count": null,
   "metadata": {},
   "outputs": [],
   "source": [
    "ic_cents = []\n",
    "ic_amps = []\n",
    "for peak in event.frib.get_ic_trace().peaks:\n",
    "    ic_cents.append(peak.centroid)\n",
    "    ic_amps.append(peak.amplitude)\n",
    "\n",
    "\n",
    "sample_range = np.arange(0, FRIB_TRACE_LENGTH)\n",
    "fig, ax = plt.subplots(constrained_layout=True)\n",
    "ax.plot(sample_range, event.frib.get_ic_trace().trace, label=\"Ion Chamber\")\n",
    "ax.scatter(ic_cents, ic_amps, c=\"C1\", label=\"Peaks\")\n",
    "mplcursors.cursor()\n",
    "ax.set_xlabel(\"Time Bucket\")\n",
    "ax.set_ylabel(\"Amplitude\")\n",
    "ax.legend()"
   ]
  },
  {
   "cell_type": "markdown",
   "metadata": {},
   "source": [
    "Another important concept of the ion chamber signal is the triggering peak. See the diagram at the AT-TPC [webpage](https://attpc.github.io/hardware/attpc/) Since the ion chamber is delayed a fixed amount every event, in general, the position of the trigger should not vary much. By running through some events in this notebook, you can identify this position, and use the `ic_delay_time_bucket` paramter in the configuration. This sets a lower threshold (in time); the first peak past this threshold is taken as the trigger. As such, FribEvent has some methods to handle this, demonstrated below."
   ]
  },
  {
   "cell_type": "code",
   "execution_count": null,
   "metadata": {},
   "outputs": [],
   "source": [
    "trigger = event.frib.get_triggering_ic_peak(frib_params)\n",
    "if trigger is None:\n",
    "    raise Exception(\"There is no trigger in this event! Uh Oh!\")\n",
    "\n",
    "sample_range = np.arange(0, FRIB_TRACE_LENGTH)\n",
    "fig, ax = plt.subplots(constrained_layout=True)\n",
    "ax.plot(sample_range, event.frib.get_ic_trace().trace, label=\"Ion Chamber\")\n",
    "ax.scatter([trigger.centroid], [trigger.amplitude], c=\"C1\", label=\"Trigger\")\n",
    "ax.vlines([frib_params.ic_delay_time_bucket], 0.0, trigger.amplitude, colors=\"C2\", label=\"Ion Chamber Delay\")\n",
    "mplcursors.cursor()\n",
    "ax.set_xlabel(\"Time Bucket\")\n",
    "ax.set_xlabel(\"Amplitude\")\n",
    "ax.legend()"
   ]
  }
 ],
 "metadata": {
  "kernelspec": {
   "display_name": ".venv",
   "language": "python",
   "name": "python3"
  },
  "language_info": {
   "codemirror_mode": {
    "name": "ipython",
    "version": 3
   },
   "file_extension": ".py",
   "mimetype": "text/x-python",
   "name": "python",
   "nbconvert_exporter": "python",
   "pygments_lexer": "ipython3",
   "version": "3.11.0rc1"
  }
 },
 "nbformat": 4,
 "nbformat_minor": 4
}
